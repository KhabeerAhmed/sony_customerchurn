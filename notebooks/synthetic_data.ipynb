{
 "cells": [
  {
   "cell_type": "code",
   "execution_count": null,
   "metadata": {},
   "outputs": [],
   "source": [
    "import pandas as pd\n",
    "import numpy as np[theme]\n",
    "primaryColor = \"#1E90FF\"\n",
    "backgroundColor = \"#101820\"\n",
    "secondaryBackgroundColor = \"#20232A\"\n",
    "textColor = \"#F5F5F5\"\n",
    "font = \"sans serif\"\n"
   ]
  },
  {
   "cell_type": "code",
   "execution_count": 2,
   "metadata": {},
   "outputs": [],
   "source": [
    "np.random.seed(99)\n",
    "\n",
    "# Generate synthetic data\n",
    "synthetic_data = pd.DataFrame({\n",
    "    'account length': np.random.randint(70, 200, size=1000),\n",
    "    'number vmail messages': np.random.randint(0, 50, size=1000),\n",
    "    'total day minutes': np.random.normal(180, 40, size=1000),\n",
    "    'total day charge': np.random.normal(30, 5, size=1000),\n",
    "    'total eve minutes': np.random.normal(200, 50, size=1000),\n",
    "    'total eve charge': np.random.normal(30, 5, size=1000),\n",
    "    'total night minutes': np.random.normal(200, 50, size=1000),\n",
    "    'total night charge': np.random.normal(20, 5, size=1000),\n",
    "    'total intl minutes': np.random.normal(10, 5, size=1000),\n",
    "    'total intl charge': np.random.normal(2.7, 1, size=1000),\n",
    "    'customer service calls': np.random.randint(0, 10, size=1000),\n",
    "    'international plan': np.random.choice(['yes', 'no'], size=1000, p=[0.1, 0.9]),\n",
    "    'voice mail plan': np.random.choice(['yes', 'no'], size=1000, p=[0.3, 0.7]),\n",
    "    'churn': np.random.choice([0, 1], size=1000, p=[0.85, 0.15])\n",
    "})"
   ]
  },
  {
   "cell_type": "code",
   "execution_count": 3,
   "metadata": {},
   "outputs": [
    {
     "name": "stdout",
     "output_type": "stream",
     "text": [
      "   account length  number vmail messages  total day minutes  total day charge  \\\n",
      "0             199                     31         209.759128         34.264444   \n",
      "1             105                      4         169.164571         28.410146   \n",
      "2             138                     23         295.160866         34.193507   \n",
      "3             199                     44         144.409597         19.922485   \n",
      "4             105                     14         227.850745         35.025098   \n",
      "\n",
      "   total eve minutes  total eve charge  total night minutes  \\\n",
      "0         281.250008         30.231947           184.871460   \n",
      "1         218.443624         18.098050           211.953654   \n",
      "2         261.112551         30.247314           254.458355   \n",
      "3         192.218176         34.444777           209.966412   \n",
      "4         240.759577         32.548417           264.230103   \n",
      "\n",
      "   total night charge  total intl minutes  total intl charge  \\\n",
      "0           12.959953            7.074172           3.463627   \n",
      "1           19.052273            6.824083           2.834780   \n",
      "2           17.139366           14.468105           2.407900   \n",
      "3           18.698863           12.325719           2.722511   \n",
      "4           12.519152           13.113569           3.131082   \n",
      "\n",
      "   customer service calls international plan voice mail plan  churn  \n",
      "0                       5                 no             yes      0  \n",
      "1                       9                 no              no      0  \n",
      "2                       5                 no             yes      1  \n",
      "3                       6                 no              no      0  \n",
      "4                       0                 no              no      0  \n"
     ]
    }
   ],
   "source": [
    "\n",
    "synthetic_data.to_csv('../data/processed/synthetic_customer_data.csv', index=False)\n",
    "print(synthetic_data.head())"
   ]
  },
  {
   "cell_type": "code",
   "execution_count": 1,
   "metadata": {},
   "outputs": [],
   "source": [
    "# This notebook is no longer essential as the synthetic data does not resemble the representation of real data. So we will use the testing data in the app."
   ]
  }
 ],
 "metadata": {
  "kernelspec": {
   "display_name": ".venv",
   "language": "python",
   "name": "python3"
  },
  "language_info": {
   "codemirror_mode": {
    "name": "ipython",
    "version": 3
   },
   "file_extension": ".py",
   "mimetype": "text/x-python",
   "name": "python",
   "nbconvert_exporter": "python",
   "pygments_lexer": "ipython3",
   "version": "3.12.2"
  }
 },
 "nbformat": 4,
 "nbformat_minor": 2
}

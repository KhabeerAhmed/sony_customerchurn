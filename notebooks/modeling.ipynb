{
 "cells": [
  {
   "cell_type": "markdown",
   "metadata": {},
   "source": [
    "# Modeling"
   ]
  },
  {
   "cell_type": "markdown",
   "metadata": {},
   "source": [
    "- Key points concerning the dataset\n",
    "1. Dataset is imbalanced\n",
    "2. Few outliers are present\n",
    "3. Multicollinearity observed between certain variables"
   ]
  },
  {
   "cell_type": "markdown",
   "metadata": {},
   "source": [
    "- We can use tree based algortihms such as Random Forest or XGBoost since they are robust at handling outliers, multicollinearity, feature selection and doesn't necessarily require feature scaling. However, we have already performed feature selection through EDA."
   ]
  },
  {
   "cell_type": "code",
   "execution_count": 17,
   "metadata": {},
   "outputs": [],
   "source": [
    "import pandas as pd\n",
    "import sklearn\n",
    "import xgboost"
   ]
  },
  {
   "cell_type": "code",
   "execution_count": 3,
   "metadata": {},
   "outputs": [],
   "source": [
    "df = pd.read_csv('../data/processed/Data_Science_Challenge.csv')"
   ]
  },
  {
   "cell_type": "code",
   "execution_count": null,
   "metadata": {},
   "outputs": [],
   "source": [
    "X = df.drop(['churn'], axis = 1)\n",
    "y = df[['churn']]"
   ]
  },
  {
   "cell_type": "code",
   "execution_count": 9,
   "metadata": {},
   "outputs": [],
   "source": [
    "X = df[['international plan', 'voice mail plan', 'number vmail messages',\n",
    "       'total day minutes', 'total day charge',\n",
    "       'total eve minutes', 'total eve charge',\n",
    "       'total night minutes', 'total night charge',\n",
    "       'total intl minutes', 'total intl charge',\n",
    "       'customer service calls']]"
   ]
  },
  {
   "cell_type": "code",
   "execution_count": 16,
   "metadata": {},
   "outputs": [
    {
     "name": "stdout",
     "output_type": "stream",
     "text": [
      "     international plan voice mail plan  number vmail messages  \\\n",
      "0                    no             yes                     25   \n",
      "1                    no             yes                     26   \n",
      "2                    no              no                      0   \n",
      "3                   yes              no                      0   \n",
      "4                   yes              no                      0   \n",
      "...                 ...             ...                    ...   \n",
      "3328                 no             yes                     36   \n",
      "3329                 no              no                      0   \n",
      "3330                 no              no                      0   \n",
      "3331                yes              no                      0   \n",
      "3332                 no             yes                     25   \n",
      "\n",
      "      total day minutes  total day charge  total eve minutes  \\\n",
      "0                 265.1             45.07              197.4   \n",
      "1                 161.6             27.47              195.5   \n",
      "2                 243.4             41.38              121.2   \n",
      "3                 299.4             50.90               61.9   \n",
      "4                 166.7             28.34              148.3   \n",
      "...                 ...               ...                ...   \n",
      "3328              156.2             26.55              215.5   \n",
      "3329              231.1             39.29              153.4   \n",
      "3330              180.8             30.74              288.8   \n",
      "3331              213.8             36.35              159.6   \n",
      "3332              234.4             39.85              265.9   \n",
      "\n",
      "      total eve charge  total night minutes  total night charge  \\\n",
      "0                16.78                244.7               11.01   \n",
      "1                16.62                254.4               11.45   \n",
      "2                10.30                162.6                7.32   \n",
      "3                 5.26                196.9                8.86   \n",
      "4                12.61                186.9                8.41   \n",
      "...                ...                  ...                 ...   \n",
      "3328             18.32                279.1               12.56   \n",
      "3329             13.04                191.3                8.61   \n",
      "3330             24.55                191.9                8.64   \n",
      "3331             13.57                139.2                6.26   \n",
      "3332             22.60                241.4               10.86   \n",
      "\n",
      "      total intl minutes  total intl charge  customer service calls  \n",
      "0                   10.0               2.70                       1  \n",
      "1                   13.7               3.70                       1  \n",
      "2                   12.2               3.29                       0  \n",
      "3                    6.6               1.78                       2  \n",
      "4                   10.1               2.73                       3  \n",
      "...                  ...                ...                     ...  \n",
      "3328                 9.9               2.67                       2  \n",
      "3329                 9.6               2.59                       3  \n",
      "3330                14.1               3.81                       2  \n",
      "3331                 5.0               1.35                       2  \n",
      "3332                13.7               3.70                       0  \n",
      "\n",
      "[3333 rows x 12 columns]\n",
      "      churn\n",
      "0     False\n",
      "1     False\n",
      "2     False\n",
      "3     False\n",
      "4     False\n",
      "...     ...\n",
      "3328  False\n",
      "3329  False\n",
      "3330  False\n",
      "3331  False\n",
      "3332  False\n",
      "\n",
      "[3333 rows x 1 columns]\n"
     ]
    }
   ],
   "source": [
    "print(X)\n",
    "print(y)\n",
    "\n"
   ]
  },
  {
   "cell_type": "code",
   "execution_count": 18,
   "metadata": {},
   "outputs": [],
   "source": [
    "from sklearn.model_selection import train_test_split\n",
    "X_train, X_test, y_train, y_test = train_test_split(X, y, test_size=0.2, random_state=99, stratify=y)\n"
   ]
  },
  {
   "cell_type": "code",
   "execution_count": null,
   "metadata": {},
   "outputs": [],
   "source": [
    "from xgboost import XGBClassifier\n"
   ]
  }
 ],
 "metadata": {
  "kernelspec": {
   "display_name": ".venv",
   "language": "python",
   "name": "python3"
  },
  "language_info": {
   "codemirror_mode": {
    "name": "ipython",
    "version": 3
   },
   "file_extension": ".py",
   "mimetype": "text/x-python",
   "name": "python",
   "nbconvert_exporter": "python",
   "pygments_lexer": "ipython3",
   "version": "3.12.2"
  }
 },
 "nbformat": 4,
 "nbformat_minor": 2
}
